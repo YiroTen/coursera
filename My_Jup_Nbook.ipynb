{
 "cells": [
  {
   "cell_type": "markdown",
   "id": "c372629f-15b6-47b1-bf3f-d49e3adf0c4f",
   "metadata": {},
   "source": [
    "# My Jupyter Notebook on IBM Watson Studio"
   ]
  },
  {
   "cell_type": "markdown",
   "id": "45b219e9-5463-4869-8ae1-9bfb256ed259",
   "metadata": {},
   "source": [
    "**Yair Tenorio** <br> Microfluidics, Nanotechnology and Bioinformatics Scientist, studying Data Science."
   ]
  },
  {
   "cell_type": "markdown",
   "id": "1701a99a-8f78-4894-b23f-8db481041a7e",
   "metadata": {},
   "source": [
    "<i> a) I am interested in data science because is a very usefull and interesting area. <br> b) I pretend to use this knowledege to improve my research activities, process and present information obtained in my experiments, also infer new things hiden inside my computational calculations <br> c) And why not, maybe to start a new career in Data Science"
   ]
  },
  {
   "cell_type": "markdown",
   "id": "6e6e3979-5f28-4156-8af4-0b338729f45d",
   "metadata": {},
   "source": [
    "### The next pice of code print a message, if the variable \"available\" is True, prints the message  \"In stock\". If available is False it prints \"out of stock\". Please change available to say False and run the code, ¡Enjoy!"
   ]
  },
  {
   "cell_type": "code",
   "execution_count": 7,
   "id": "7518f0a4-df71-440f-bc0d-c7a152bfb1de",
   "metadata": {},
   "outputs": [
    {
     "name": "stdout",
     "output_type": "stream",
     "text": [
      "out of stock\n"
     ]
    }
   ],
   "source": [
    "available = False\n",
    "if available:\n",
    "    print (\"In stock\")\n",
    "else:\n",
    "    print (\"out of stock\")"
   ]
  },
  {
   "cell_type": "markdown",
   "id": "0f6f138e-3653-475a-8b42-24a8fed39b67",
   "metadata": {},
   "source": [
    "---\n",
    "1. fish\n",
    "2. eggs\n",
    "3. bread\n",
    "4. beans\n",
    "5. meat\n",
    "---\n",
    "|Country|City  |Temperature|\n",
    "|-------|------|-----------|\n",
    "|Mexico |Puebla|   25 C    |\n",
    "|France |Paris |   18 C    |\n",
    "|USA    |Texas |   19 C    |\n",
    "\n",
    "---\n",
    "\n",
    "<a><https://github.com/> <tab> Link to GitHub</a>\n",
    "\n",
    "    \n",
    "    \n",
    "<ul>\n",
    "    <li>This</li>\n",
    "    <li>is</li>\n",
    "    <li>a</li>\n",
    "    <li>bulleted</li>\n",
    "    <li>list</li>\n",
    "</ul>\n",
    "    </br>\n",
    "   \n",
    "    \n",
    "    \n"
   ]
  },
  {
   "cell_type": "code",
   "execution_count": null,
   "id": "94ee694f-55f0-4e45-986c-ac95252b1d50",
   "metadata": {},
   "outputs": [],
   "source": []
  },
  {
   "cell_type": "code",
   "execution_count": null,
   "id": "edb0bcf6-7593-44f1-8345-f961662552bc",
   "metadata": {},
   "outputs": [],
   "source": []
  }
 ],
 "metadata": {
  "kernelspec": {
   "display_name": "Python 3",
   "language": "python",
   "name": "python3"
  },
  "language_info": {
   "codemirror_mode": {
    "name": "ipython",
    "version": 3
   },
   "file_extension": ".py",
   "mimetype": "text/x-python",
   "name": "python",
   "nbconvert_exporter": "python",
   "pygments_lexer": "ipython3",
   "version": "3.8.8"
  }
 },
 "nbformat": 4,
 "nbformat_minor": 5
}
